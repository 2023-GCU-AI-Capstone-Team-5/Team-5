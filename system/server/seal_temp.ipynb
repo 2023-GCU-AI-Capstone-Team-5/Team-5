{
 "cells": [
  {
   "cell_type": "code",
   "execution_count": 2,
   "metadata": {},
   "outputs": [],
   "source": [
    "# SEAL 라이브러리의 모든 클래스와 함수를 임포트합니다.\n",
    "from SEAL_Python.examples.seal import *\n",
    "import numpy as np\n",
    "\n",
    "parms = EncryptionParameters(scheme_type.bgv)\n",
    "\n",
    "poly_modulus_degree = 8192\n",
    "parms.set_poly_modulus_degree(poly_modulus_degree)\n",
    "parms.set_coeff_modulus(CoeffModulus.BFVDefault(poly_modulus_degree))\n",
    "parms.set_plain_modulus(8192)\n",
    "\n",
    "context = SEALContext(parms)\n",
    "\n",
    "# 키 생성\n",
    "\n",
    "keygen = KeyGenerator(context)\n",
    "\n",
    "secret_key = keygen.secret_key()\n",
    "public_key = keygen.create_public_key()\n",
    "relin_keys = keygen.create_relin_keys()\n",
    "galois_keys =  keygen.create_galois_keys()\n",
    "\n",
    "encryptor = Encryptor(context, public_key)\n",
    "evaluator = Evaluator(context)\n",
    "decryptor = Decryptor(context, secret_key)"
   ]
  }
 ],
 "metadata": {
  "kernelspec": {
   "display_name": "hw39",
   "language": "python",
   "name": "python3"
  },
  "language_info": {
   "codemirror_mode": {
    "name": "ipython",
    "version": 3
   },
   "file_extension": ".py",
   "mimetype": "text/x-python",
   "name": "python",
   "nbconvert_exporter": "python",
   "pygments_lexer": "ipython3",
   "version": "3.9.18"
  }
 },
 "nbformat": 4,
 "nbformat_minor": 2
}
