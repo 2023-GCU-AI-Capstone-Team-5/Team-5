{
 "cells": [
  {
   "cell_type": "code",
   "execution_count": 2,
   "metadata": {},
   "outputs": [
    {
     "name": "stdout",
     "output_type": "stream",
     "text": [
      "(592, 474, 3)\n",
      "rectangles[[(26, 95) (336, 405)]]\n",
      "Bounding box coordinates - x: 98, y: 179, width: 50, height: 16\n",
      "Bounding box coordinates - x: 217, y: 184, width: 62, height: 19\n",
      "Bounding box coordinates - x: 133, y: 177, width: 50, height: 90\n",
      "Bounding box coordinates - x: 99, y: 281, width: 120, height: 56\n",
      "x: 98, y: 179, w: 50, h: 16\n",
      "x: 217, y: 184, w: 62, h: 19\n",
      "x: 133, y: 177, w: 50, h: 90\n",
      "x: 99, y: 281, w: 120, h: 56\n",
      "592\n",
      "474\n",
      "총 소요 시간: 158.58 초\n"
     ]
    }
   ],
   "source": [
    "import cv2\n",
    "import dlib\n",
    "import part_extraction\n",
    "\n",
    "shape_predictor_path = \"shape_predictor_68_face_landmarks.dat\"\n",
    "# image_path = \"img.png\"\n",
    "image_path = \"img25.jpg\"\n",
    "\n",
    "image = cv2.imread(image_path)\n",
    "print(image.shape)\n",
    "# image = cv2.resize(image, (592,474))\n",
    "detector = dlib.get_frontal_face_detector()\n",
    "predictor = dlib.shape_predictor(shape_predictor_path)\n",
    "faces = detector(image)\n",
    "print(faces)\n",
    "\n",
    "for face in faces:\n",
    "    shape = predictor(image, face)\n",
    "    shape = part_extraction.shape_to_np(shape)\n",
    "    left_eye = shape[36:42]\n",
    "    right_eye = shape[42:48]\n",
    "    nose = shape[27:36]\n",
    "    mouth = shape[48:68]\n",
    "    highlighted_image, highlighted_points = part_extraction.highlight_key_parts(image, [left_eye, right_eye, nose, mouth])\n",
    "\n",
    "height = image.shape[0]\n",
    "width = image.shape[1]\n",
    "position = part_extraction.Point_expansion(highlighted_points, height, width)\n",
    "\n",
    "# print(position[172][128])\n",
    "# print(position[177][133])\n",
    "\n",
    "import seal_utils\n",
    "SEAL = seal_utils.Seal()\n",
    "import time\n",
    "start_time = time.time()\n",
    "image, decryptor, evaluator = SEAL.encryption(image.tolist(), position, height, width)\n",
    "end_time = time.time()\n",
    "elapsed_time = end_time - start_time\n",
    "print(f\"총 소요 시간: {elapsed_time:.2f} 초\")"
   ]
  },
  {
   "cell_type": "code",
   "execution_count": 11,
   "metadata": {},
   "outputs": [
    {
     "name": "stdout",
     "output_type": "stream",
     "text": [
      "(587, 474, 3)\n",
      "rectangles[[(162, 176) (286, 300)]]\n",
      "Bounding box coordinates - x: 178, y: 208, width: 22, height: 9\n",
      "Bounding box coordinates - x: 231, y: 198, width: 21, height: 10\n",
      "Bounding box coordinates - x: 214, y: 207, width: 18, height: 41\n",
      "Bounding box coordinates - x: 204, y: 255, width: 44, height: 21\n",
      "x: 178, y: 208, w: 22, h: 9\n",
      "x: 231, y: 198, w: 21, h: 10\n",
      "x: 214, y: 207, w: 18, h: 41\n",
      "x: 204, y: 255, w: 44, h: 21\n",
      "2069\n",
      "0.007373275173908085\n",
      "267650\n",
      "4.617829855171627\n",
      "3447.391304347827\n"
     ]
    }
   ],
   "source": [
    "import cv2\n",
    "import dlib\n",
    "import part_extraction\n",
    "\n",
    "shape_predictor_path = \"shape_predictor_68_face_landmarks.dat\"\n",
    "# image_path = \"img.png\"\n",
    "image_path = \"094.jpg\"\n",
    "\n",
    "image = cv2.imread(image_path)\n",
    "print(image.shape)\n",
    "# image = cv2.resize(image, (592,474))\n",
    "detector = dlib.get_frontal_face_detector()\n",
    "predictor = dlib.shape_predictor(shape_predictor_path)\n",
    "faces = detector(image)\n",
    "print(faces)\n",
    "\n",
    "for face in faces:\n",
    "    shape = predictor(image, face)\n",
    "    shape = part_extraction.shape_to_np(shape)\n",
    "    left_eye = shape[36:42]\n",
    "    right_eye = shape[42:48]\n",
    "    nose = shape[27:36]\n",
    "    mouth = shape[48:68]\n",
    "    highlighted_image, highlighted_points = part_extraction.highlight_key_parts(image, [left_eye, right_eye, nose, mouth])\n",
    "\n",
    "height = image.shape[0]\n",
    "width = image.shape[1]\n",
    "position = part_extraction.Point_expansion(highlighted_points, height, width)\n",
    "\n",
    "print(sum([sum(row) for row in position]))\n",
    "print(sum([sum(row) for row in position])/(592*474))\n",
    "print(280608-12958)\n",
    "print(12958/(280608)*100)\n",
    "\n",
    "print(158.58*100/4.6)"
   ]
  },
  {
   "cell_type": "code",
   "execution_count": 15,
   "metadata": {},
   "outputs": [
    {
     "name": "stdout",
     "output_type": "stream",
     "text": [
      "16282312272\n",
      "총 소요 시간: 0.0005 초\n"
     ]
    }
   ],
   "source": [
    "print(16410000000-127687728)\n",
    "import sys\n",
    "sys.path.append('/home/hwlee/senier/system')\n",
    "from SEAL_Python.examples.seal import *\n",
    "parms = EncryptionParameters(scheme_type.bgv)\n",
    "\n",
    "poly_modulus_degree = 8192\n",
    "parms.set_poly_modulus_degree(poly_modulus_degree)\n",
    "parms.set_coeff_modulus(CoeffModulus.BFVDefault(poly_modulus_degree))\n",
    "parms.set_plain_modulus(8192)\n",
    "\n",
    "context = SEALContext(parms)\n",
    "\n",
    "keygen = KeyGenerator(context)\n",
    "\n",
    "secret_key = keygen.secret_key()\n",
    "public_key = keygen.create_public_key()\n",
    "relin_keys = keygen.create_relin_keys()\n",
    "galois_keys = keygen.create_galois_keys()\n",
    "\n",
    "encryptor = Encryptor(context, public_key)\n",
    "evaluator = Evaluator(context)\n",
    "decryptor = Decryptor(context, secret_key)\n",
    "\n",
    "plaintext1 = Plaintext(\"6\")\n",
    "\n",
    "ciphertext1 = encryptor.encrypt(plaintext1)\n",
    "\n",
    "import time\n",
    "start_time = time.time()\n",
    "plaintext2 = Plaintext(\"3\")\n",
    "result = evaluator.multiply_plain(ciphertext1, plaintext2)\n",
    "end_time = time.time()\n",
    "elapsed_time = end_time - start_time\n",
    "print(f\"총 소요 시간: {elapsed_time:.4f} 초\")\n",
    "\n",
    "start_time = time.time()\n",
    "result = 35 * 0.6\n",
    "end_time = time.time()\n",
    "elapsed_time = end_time - start_time\n",
    "print(f\"총 소요 시간: {elapsed_time:.4f} 초\")"
   ]
  }
 ],
 "metadata": {
  "kernelspec": {
   "display_name": "hw39",
   "language": "python",
   "name": "python3"
  },
  "language_info": {
   "codemirror_mode": {
    "name": "ipython",
    "version": 3
   },
   "file_extension": ".py",
   "mimetype": "text/x-python",
   "name": "python",
   "nbconvert_exporter": "python",
   "pygments_lexer": "ipython3",
   "version": "3.9.18"
  }
 },
 "nbformat": 4,
 "nbformat_minor": 2
}
