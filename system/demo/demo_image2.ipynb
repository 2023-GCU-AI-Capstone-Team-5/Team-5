{
 "cells": [
  {
   "cell_type": "code",
   "execution_count": 1,
   "metadata": {},
   "outputs": [
    {
     "name": "stdout",
     "output_type": "stream",
     "text": [
      "(592, 474, 3)\n",
      "rectangles[[(26, 95) (336, 405)]]\n",
      "Bounding box coordinates - x: 98, y: 179, width: 50, height: 16\n",
      "Bounding box coordinates - x: 217, y: 184, width: 62, height: 19\n",
      "Bounding box coordinates - x: 133, y: 177, width: 50, height: 90\n",
      "Bounding box coordinates - x: 99, y: 281, width: 120, height: 56\n",
      "x: 98, y: 179, w: 50, h: 16\n",
      "x: 217, y: 184, w: 62, h: 19\n",
      "x: 133, y: 177, w: 50, h: 90\n",
      "x: 99, y: 281, w: 120, h: 56\n",
      "592\n",
      "474\n"
     ]
    },
    {
     "ename": "",
     "evalue": "",
     "output_type": "error",
     "traceback": [
      "\u001b[1;31mThe Kernel crashed while executing code in the the current cell or a previous cell. Please review the code in the cell(s) to identify a possible cause of the failure. Click <a href='https://aka.ms/vscodeJupyterKernelCrash'>here</a> for more info. View Jupyter <a href='command:jupyter.viewOutput'>log</a> for further details."
     ]
    }
   ],
   "source": [
    "import cv2\n",
    "import dlib\n",
    "import part_extraction\n",
    "\n",
    "shape_predictor_path = \"shape_predictor_68_face_landmarks.dat\"\n",
    "# image_path = \"img.png\"\n",
    "image_path = \"img25.jpg\"\n",
    "\n",
    "image = cv2.imread(image_path)\n",
    "print(image.shape)\n",
    "# image = cv2.resize(image, (592,474))\n",
    "detector = dlib.get_frontal_face_detector()\n",
    "predictor = dlib.shape_predictor(shape_predictor_path)\n",
    "faces = detector(image)\n",
    "print(faces)\n",
    "\n",
    "for face in faces:\n",
    "    shape = predictor(image, face)\n",
    "    shape = part_extraction.shape_to_np(shape)\n",
    "    left_eye = shape[36:42]\n",
    "    right_eye = shape[42:48]\n",
    "    nose = shape[27:36]\n",
    "    mouth = shape[48:68]\n",
    "    highlighted_image, highlighted_points = part_extraction.highlight_key_parts(image, [left_eye, right_eye, nose, mouth])\n",
    "\n",
    "height = image.shape[0]\n",
    "width = image.shape[1]\n",
    "position = part_extraction.Point_expansion(highlighted_points, height, width)\n",
    "\n",
    "position = []\n",
    "for i in range(height):\n",
    "    position.append([1] * width)\n",
    "\n",
    "# print(position[172][128])\n",
    "# print(position[177][133])\n",
    "\n",
    "import seal_utils\n",
    "SEAL = seal_utils.Seal()\n",
    "import time\n",
    "start_time = time.time()\n",
    "image, decryptor, evaluator = SEAL.encryption(image.tolist(), position, height, width)\n",
    "end_time = time.time()\n",
    "elapsed_time = end_time - start_time\n",
    "print(f\"총 소요 시간: {elapsed_time:.2f} 초\")"
   ]
  }
 ],
 "metadata": {
  "kernelspec": {
   "display_name": "hw39",
   "language": "python",
   "name": "python3"
  },
  "language_info": {
   "codemirror_mode": {
    "name": "ipython",
    "version": 3
   },
   "file_extension": ".py",
   "mimetype": "text/x-python",
   "name": "python",
   "nbconvert_exporter": "python",
   "pygments_lexer": "ipython3",
   "version": "3.9.18"
  }
 },
 "nbformat": 4,
 "nbformat_minor": 2
}
